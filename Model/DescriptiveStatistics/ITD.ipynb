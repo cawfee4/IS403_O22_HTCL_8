{
 "cells": [
  {
   "cell_type": "code",
   "execution_count": 1,
   "metadata": {},
   "outputs": [],
   "source": [
    "import pandas as pd\n",
    "import matplotlib.pyplot as plt\n",
    "from scipy.stats import skew\n",
    "from scipy.stats import kurtosis"
   ]
  },
  {
   "cell_type": "code",
   "execution_count": 4,
   "metadata": {},
   "outputs": [
    {
     "data": {
      "text/html": [
       "<div>\n",
       "<style scoped>\n",
       "    .dataframe tbody tr th:only-of-type {\n",
       "        vertical-align: middle;\n",
       "    }\n",
       "\n",
       "    .dataframe tbody tr th {\n",
       "        vertical-align: top;\n",
       "    }\n",
       "\n",
       "    .dataframe thead th {\n",
       "        text-align: right;\n",
       "    }\n",
       "</style>\n",
       "<table border=\"1\" class=\"dataframe\">\n",
       "  <thead>\n",
       "    <tr style=\"text-align: right;\">\n",
       "      <th></th>\n",
       "      <th>time</th>\n",
       "      <th>open</th>\n",
       "      <th>high</th>\n",
       "      <th>low</th>\n",
       "      <th>close</th>\n",
       "      <th>volume</th>\n",
       "      <th>ticker</th>\n",
       "    </tr>\n",
       "  </thead>\n",
       "  <tbody>\n",
       "    <tr>\n",
       "      <th>0</th>\n",
       "      <td>2019-03-01</td>\n",
       "      <td>6900</td>\n",
       "      <td>6900</td>\n",
       "      <td>6900</td>\n",
       "      <td>6900</td>\n",
       "      <td>37940</td>\n",
       "      <td>ITD</td>\n",
       "    </tr>\n",
       "    <tr>\n",
       "      <th>1</th>\n",
       "      <td>2019-03-04</td>\n",
       "      <td>6900</td>\n",
       "      <td>7100</td>\n",
       "      <td>6900</td>\n",
       "      <td>7100</td>\n",
       "      <td>36140</td>\n",
       "      <td>ITD</td>\n",
       "    </tr>\n",
       "    <tr>\n",
       "      <th>2</th>\n",
       "      <td>2019-03-05</td>\n",
       "      <td>7100</td>\n",
       "      <td>7100</td>\n",
       "      <td>6900</td>\n",
       "      <td>7100</td>\n",
       "      <td>14270</td>\n",
       "      <td>ITD</td>\n",
       "    </tr>\n",
       "    <tr>\n",
       "      <th>3</th>\n",
       "      <td>2019-03-06</td>\n",
       "      <td>6940</td>\n",
       "      <td>7230</td>\n",
       "      <td>6940</td>\n",
       "      <td>7170</td>\n",
       "      <td>224810</td>\n",
       "      <td>ITD</td>\n",
       "    </tr>\n",
       "    <tr>\n",
       "      <th>4</th>\n",
       "      <td>2019-03-07</td>\n",
       "      <td>7270</td>\n",
       "      <td>7270</td>\n",
       "      <td>7100</td>\n",
       "      <td>7170</td>\n",
       "      <td>80680</td>\n",
       "      <td>ITD</td>\n",
       "    </tr>\n",
       "  </tbody>\n",
       "</table>\n",
       "</div>"
      ],
      "text/plain": [
       "         time  open  high   low  close  volume ticker\n",
       "0  2019-03-01  6900  6900  6900   6900   37940    ITD\n",
       "1  2019-03-04  6900  7100  6900   7100   36140    ITD\n",
       "2  2019-03-05  7100  7100  6900   7100   14270    ITD\n",
       "3  2019-03-06  6940  7230  6940   7170  224810    ITD\n",
       "4  2019-03-07  7270  7270  7100   7170   80680    ITD"
      ]
     },
     "execution_count": 4,
     "metadata": {},
     "output_type": "execute_result"
    }
   ],
   "source": [
    "df = pd.read_csv('../../Dataset/ITD_stock.csv')\n",
    "df.head()"
   ]
  },
  {
   "cell_type": "code",
   "execution_count": 5,
   "metadata": {},
   "outputs": [
    {
     "data": {
      "text/html": [
       "<div>\n",
       "<style scoped>\n",
       "    .dataframe tbody tr th:only-of-type {\n",
       "        vertical-align: middle;\n",
       "    }\n",
       "\n",
       "    .dataframe tbody tr th {\n",
       "        vertical-align: top;\n",
       "    }\n",
       "\n",
       "    .dataframe thead th {\n",
       "        text-align: right;\n",
       "    }\n",
       "</style>\n",
       "<table border=\"1\" class=\"dataframe\">\n",
       "  <thead>\n",
       "    <tr style=\"text-align: right;\">\n",
       "      <th></th>\n",
       "      <th>time</th>\n",
       "      <th>open</th>\n",
       "      <th>high</th>\n",
       "      <th>low</th>\n",
       "      <th>close</th>\n",
       "      <th>volume</th>\n",
       "      <th>ticker</th>\n",
       "    </tr>\n",
       "  </thead>\n",
       "  <tbody>\n",
       "    <tr>\n",
       "      <th>1308</th>\n",
       "      <td>2024-05-27</td>\n",
       "      <td>11300</td>\n",
       "      <td>11600</td>\n",
       "      <td>11300</td>\n",
       "      <td>11300</td>\n",
       "      <td>47400</td>\n",
       "      <td>ITD</td>\n",
       "    </tr>\n",
       "    <tr>\n",
       "      <th>1309</th>\n",
       "      <td>2024-05-28</td>\n",
       "      <td>11650</td>\n",
       "      <td>12050</td>\n",
       "      <td>11400</td>\n",
       "      <td>12050</td>\n",
       "      <td>322600</td>\n",
       "      <td>ITD</td>\n",
       "    </tr>\n",
       "    <tr>\n",
       "      <th>1310</th>\n",
       "      <td>2024-05-29</td>\n",
       "      <td>12850</td>\n",
       "      <td>12850</td>\n",
       "      <td>12450</td>\n",
       "      <td>12600</td>\n",
       "      <td>334600</td>\n",
       "      <td>ITD</td>\n",
       "    </tr>\n",
       "    <tr>\n",
       "      <th>1311</th>\n",
       "      <td>2024-05-30</td>\n",
       "      <td>12600</td>\n",
       "      <td>12600</td>\n",
       "      <td>12100</td>\n",
       "      <td>12500</td>\n",
       "      <td>299000</td>\n",
       "      <td>ITD</td>\n",
       "    </tr>\n",
       "    <tr>\n",
       "      <th>1312</th>\n",
       "      <td>2024-05-31</td>\n",
       "      <td>12500</td>\n",
       "      <td>13300</td>\n",
       "      <td>12500</td>\n",
       "      <td>12700</td>\n",
       "      <td>258300</td>\n",
       "      <td>ITD</td>\n",
       "    </tr>\n",
       "  </tbody>\n",
       "</table>\n",
       "</div>"
      ],
      "text/plain": [
       "            time   open   high    low  close  volume ticker\n",
       "1308  2024-05-27  11300  11600  11300  11300   47400    ITD\n",
       "1309  2024-05-28  11650  12050  11400  12050  322600    ITD\n",
       "1310  2024-05-29  12850  12850  12450  12600  334600    ITD\n",
       "1311  2024-05-30  12600  12600  12100  12500  299000    ITD\n",
       "1312  2024-05-31  12500  13300  12500  12700  258300    ITD"
      ]
     },
     "execution_count": 5,
     "metadata": {},
     "output_type": "execute_result"
    }
   ],
   "source": [
    "df.tail()"
   ]
  },
  {
   "cell_type": "code",
   "execution_count": 6,
   "metadata": {},
   "outputs": [
    {
     "name": "stdout",
     "output_type": "stream",
     "text": [
      "<class 'pandas.core.series.Series'>\n",
      "RangeIndex: 1313 entries, 0 to 1312\n",
      "Series name: close\n",
      "Non-Null Count  Dtype\n",
      "--------------  -----\n",
      "1313 non-null   int64\n",
      "dtypes: int64(1)\n",
      "memory usage: 10.4 KB\n"
     ]
    }
   ],
   "source": [
    "df['close'].info()"
   ]
  },
  {
   "cell_type": "code",
   "execution_count": 9,
   "metadata": {},
   "outputs": [
    {
     "name": "stdout",
     "output_type": "stream",
     "text": [
      "Count: 1313\n",
      "Mean: 10160.894897182026\n",
      "Median: 10040.0\n",
      "Mode: 7560\n",
      "Range: 16110\n",
      "Standard Error: 82.86944238110631\n",
      "Standard Deviation: 3002.8025747573497\n",
      "Variance: 9016823.302969368\n",
      "Minimum: 5320\n",
      "Maximum: 21430\n",
      "25th Percentile: 7550.0\n",
      "50th Percentile: 10040.0\n",
      "75th Percentile: 11650.0\n",
      "Skewness: 0.9237181914020128\n",
      "Kurtosis: 0.8650448988673816\n",
      "Sum: 13341255\n"
     ]
    }
   ],
   "source": [
    "summary_stats = {\n",
    "    'Count': df['close'].count(),\n",
    "    'Mean': df['close'].mean(),\n",
    "    'Median': df['close'].median(),\n",
    "    'Mode': df['close'].mode()[0],\n",
    "    'Range': df['close'].max() - df['close'].min(),\n",
    "    'Standard Error': df['close'].sem(),\n",
    "    'Standard Deviation': df['close'].std(),\n",
    "    'Variance': df['close'].var(),\n",
    "    'Minimum': df['close'].min(),\n",
    "    'Maximum': df['close'].max(),\n",
    "    '25th Percentile': df['close'].quantile(0.25),\n",
    "    '50th Percentile': df['close'].quantile(0.50),\n",
    "    '75th Percentile': df['close'].quantile(0.75),\n",
    "    'Skewness': skew(df['close']),\n",
    "    'Kurtosis': kurtosis(df['close']),\n",
    "    'Sum': sum(df['close']),\n",
    "}\n",
    "\n",
    "for stat, value in summary_stats.items():\n",
    "    print(f'{stat}: {value}')"
   ]
  },
  {
   "cell_type": "markdown",
   "metadata": {},
   "source": [
    "Visualize"
   ]
  },
  {
   "cell_type": "code",
   "execution_count": 12,
   "metadata": {},
   "outputs": [
    {
     "data": {
      "image/png": "[encoded data removed]",
      "text/plain": [
       "<Figure size 1000x600 with 1 Axes>"
      ]
     },
     "metadata": {},
     "output_type": "display_data"
    }
   ],
   "source": [
    "plt.figure(figsize=(10, 6))\n",
    "plt.hist(df['close'], bins=50, alpha=0.7)\n",
    "plt.title('Distribution of ITD Close Prices')\n",
    "plt.xlabel('Close Price')\n",
    "plt.ylabel('Frequency')\n",
    "plt.grid(True)\n",
    "plt.show()"
   ]
  },
  {
   "cell_type": "code",
   "execution_count": 13,
   "metadata": {},
   "outputs": [
    {
     "data": {
      "image/png": "[encoded data removed]",
      "text/plain": [
       "<Figure size 1000x600 with 1 Axes>"
      ]
     },
     "metadata": {},
     "output_type": "display_data"
    }
   ],
   "source": [
    "plt.figure(figsize=(10, 6))\n",
    "plt.boxplot(df['close'])\n",
    "plt.title('Box Plot of ITD Close Prices')\n",
    "plt.ylabel('Close Price')\n",
    "plt.grid(True)\n",
    "plt.show()"
   ]
  }
 ],
 "metadata": {
  "kernelspec": {
   "display_name": "Python 3",
   "language": "python",
   "name": "python3"
  },
  "language_info": {
   "codemirror_mode": {
    "name": "ipython",
    "version": 3
   },
   "file_extension": ".py",
   "mimetype": "text/x-python",
   "name": "python",
   "nbconvert_exporter": "python",
   "pygments_lexer": "ipython3",
   "version": "3.11.9"
  }
 },
 "nbformat": 4,
 "nbformat_minor": 2
}
