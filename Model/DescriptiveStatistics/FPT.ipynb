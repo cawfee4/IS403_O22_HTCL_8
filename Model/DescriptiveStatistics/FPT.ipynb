{
 "cells": [
  {
   "cell_type": "code",
   "execution_count": 7,
   "metadata": {},
   "outputs": [],
   "source": [
    "\n",
    "import pandas as pd\n",
    "import matplotlib.pyplot as plt\n",
    "from scipy.stats import skew\n",
    "from scipy.stats import kurtosis"
   ]
  },
  {
   "cell_type": "code",
   "execution_count": 8,
   "metadata": {},
   "outputs": [
    {
     "data": {
      "text/html": [
       "<div>\n",
       "<style scoped>\n",
       "    .dataframe tbody tr th:only-of-type {\n",
       "        vertical-align: middle;\n",
       "    }\n",
       "\n",
       "    .dataframe tbody tr th {\n",
       "        vertical-align: top;\n",
       "    }\n",
       "\n",
       "    .dataframe thead th {\n",
       "        text-align: right;\n",
       "    }\n",
       "</style>\n",
       "<table border=\"1\" class=\"dataframe\">\n",
       "  <thead>\n",
       "    <tr style=\"text-align: right;\">\n",
       "      <th></th>\n",
       "      <th>time</th>\n",
       "      <th>open</th>\n",
       "      <th>high</th>\n",
       "      <th>low</th>\n",
       "      <th>close</th>\n",
       "      <th>volume</th>\n",
       "      <th>ticker</th>\n",
       "    </tr>\n",
       "  </thead>\n",
       "  <tbody>\n",
       "    <tr>\n",
       "      <th>0</th>\n",
       "      <td>2019-03-01</td>\n",
       "      <td>19240</td>\n",
       "      <td>19270</td>\n",
       "      <td>19080</td>\n",
       "      <td>19270</td>\n",
       "      <td>590780</td>\n",
       "      <td>FPT</td>\n",
       "    </tr>\n",
       "    <tr>\n",
       "      <th>1</th>\n",
       "      <td>2019-03-04</td>\n",
       "      <td>19270</td>\n",
       "      <td>19520</td>\n",
       "      <td>19270</td>\n",
       "      <td>19440</td>\n",
       "      <td>806770</td>\n",
       "      <td>FPT</td>\n",
       "    </tr>\n",
       "    <tr>\n",
       "      <th>2</th>\n",
       "      <td>2019-03-05</td>\n",
       "      <td>19440</td>\n",
       "      <td>19520</td>\n",
       "      <td>19350</td>\n",
       "      <td>19390</td>\n",
       "      <td>824300</td>\n",
       "      <td>FPT</td>\n",
       "    </tr>\n",
       "    <tr>\n",
       "      <th>3</th>\n",
       "      <td>2019-03-06</td>\n",
       "      <td>19410</td>\n",
       "      <td>19480</td>\n",
       "      <td>19210</td>\n",
       "      <td>19270</td>\n",
       "      <td>695230</td>\n",
       "      <td>FPT</td>\n",
       "    </tr>\n",
       "    <tr>\n",
       "      <th>4</th>\n",
       "      <td>2019-03-07</td>\n",
       "      <td>19270</td>\n",
       "      <td>19440</td>\n",
       "      <td>19270</td>\n",
       "      <td>19330</td>\n",
       "      <td>374340</td>\n",
       "      <td>FPT</td>\n",
       "    </tr>\n",
       "  </tbody>\n",
       "</table>\n",
       "</div>"
      ],
      "text/plain": [
       "         time   open   high    low  close  volume ticker\n",
       "0  2019-03-01  19240  19270  19080  19270  590780    FPT\n",
       "1  2019-03-04  19270  19520  19270  19440  806770    FPT\n",
       "2  2019-03-05  19440  19520  19350  19390  824300    FPT\n",
       "3  2019-03-06  19410  19480  19210  19270  695230    FPT\n",
       "4  2019-03-07  19270  19440  19270  19330  374340    FPT"
      ]
     },
     "execution_count": 8,
     "metadata": {},
     "output_type": "execute_result"
    }
   ],
   "source": [
    "df = pd.read_csv('../../Dataset/FPT_stock.csv')\n",
    "df.head()"
   ]
  },
  {
   "cell_type": "code",
   "execution_count": 9,
   "metadata": {},
   "outputs": [
    {
     "data": {
      "text/html": [
       "<div>\n",
       "<style scoped>\n",
       "    .dataframe tbody tr th:only-of-type {\n",
       "        vertical-align: middle;\n",
       "    }\n",
       "\n",
       "    .dataframe tbody tr th {\n",
       "        vertical-align: top;\n",
       "    }\n",
       "\n",
       "    .dataframe thead th {\n",
       "        text-align: right;\n",
       "    }\n",
       "</style>\n",
       "<table border=\"1\" class=\"dataframe\">\n",
       "  <thead>\n",
       "    <tr style=\"text-align: right;\">\n",
       "      <th></th>\n",
       "      <th>time</th>\n",
       "      <th>open</th>\n",
       "      <th>high</th>\n",
       "      <th>low</th>\n",
       "      <th>close</th>\n",
       "      <th>volume</th>\n",
       "      <th>ticker</th>\n",
       "    </tr>\n",
       "  </thead>\n",
       "  <tbody>\n",
       "    <tr>\n",
       "      <th>1308</th>\n",
       "      <td>2024-05-27</td>\n",
       "      <td>133000</td>\n",
       "      <td>133500</td>\n",
       "      <td>130600</td>\n",
       "      <td>132800</td>\n",
       "      <td>5157800</td>\n",
       "      <td>FPT</td>\n",
       "    </tr>\n",
       "    <tr>\n",
       "      <th>1309</th>\n",
       "      <td>2024-05-28</td>\n",
       "      <td>134000</td>\n",
       "      <td>137000</td>\n",
       "      <td>133100</td>\n",
       "      <td>137000</td>\n",
       "      <td>4625300</td>\n",
       "      <td>FPT</td>\n",
       "    </tr>\n",
       "    <tr>\n",
       "      <th>1310</th>\n",
       "      <td>2024-05-29</td>\n",
       "      <td>137100</td>\n",
       "      <td>138200</td>\n",
       "      <td>134800</td>\n",
       "      <td>135700</td>\n",
       "      <td>5837600</td>\n",
       "      <td>FPT</td>\n",
       "    </tr>\n",
       "    <tr>\n",
       "      <th>1311</th>\n",
       "      <td>2024-05-30</td>\n",
       "      <td>133800</td>\n",
       "      <td>135000</td>\n",
       "      <td>131900</td>\n",
       "      <td>135000</td>\n",
       "      <td>7261300</td>\n",
       "      <td>FPT</td>\n",
       "    </tr>\n",
       "    <tr>\n",
       "      <th>1312</th>\n",
       "      <td>2024-05-31</td>\n",
       "      <td>135000</td>\n",
       "      <td>136800</td>\n",
       "      <td>133800</td>\n",
       "      <td>134600</td>\n",
       "      <td>2633500</td>\n",
       "      <td>FPT</td>\n",
       "    </tr>\n",
       "  </tbody>\n",
       "</table>\n",
       "</div>"
      ],
      "text/plain": [
       "            time    open    high     low   close   volume ticker\n",
       "1308  2024-05-27  133000  133500  130600  132800  5157800    FPT\n",
       "1309  2024-05-28  134000  137000  133100  137000  4625300    FPT\n",
       "1310  2024-05-29  137100  138200  134800  135700  5837600    FPT\n",
       "1311  2024-05-30  133800  135000  131900  135000  7261300    FPT\n",
       "1312  2024-05-31  135000  136800  133800  134600  2633500    FPT"
      ]
     },
     "execution_count": 9,
     "metadata": {},
     "output_type": "execute_result"
    }
   ],
   "source": [
    "df.tail()"
   ]
  },
  {
   "cell_type": "code",
   "execution_count": 10,
   "metadata": {},
   "outputs": [
    {
     "name": "stdout",
     "output_type": "stream",
     "text": [
      "<class 'pandas.core.series.Series'>\n",
      "RangeIndex: 1313 entries, 0 to 1312\n",
      "Series name: close\n",
      "Non-Null Count  Dtype\n",
      "--------------  -----\n",
      "1313 non-null   int64\n",
      "dtypes: int64(1)\n",
      "memory usage: 10.4 KB\n"
     ]
    }
   ],
   "source": [
    "df['close'].info()"
   ]
  },
  {
   "cell_type": "code",
   "execution_count": 11,
   "metadata": {},
   "outputs": [
    {
     "name": "stdout",
     "output_type": "stream",
     "text": [
      "Count: 1313\n",
      "Mean: 56880.086824067024\n",
      "Median: 63470.0\n",
      "Mode: 68400\n",
      "Standard Deviation: 27473.981127023904\n",
      "Variance: 754819638.9680657\n",
      "Minimum: 19190\n",
      "Maximum: 138000\n",
      "25th Percentile: 28410.0\n",
      "50th Percentile: 63470.0\n",
      "75th Percentile: 71450.0\n",
      "Skewness: 0.4624600406804596\n",
      "Kurtosis: -0.3962291295746745\n"
     ]
    }
   ],
   "source": [
    "summary_stats = {\n",
    "    'Count': df['close'].count(),\n",
    "    'Mean': df['close'].mean(),\n",
    "    'Median': df['close'].median(),\n",
    "    'Mode': df['close'].mode()[0],\n",
    "    'Standard Deviation': df['close'].std(),\n",
    "    'Variance': df['close'].var(),\n",
    "    'Minimum': df['close'].min(),\n",
    "    'Maximum': df['close'].max(),\n",
    "    '25th Percentile': df['close'].quantile(0.25),\n",
    "    '50th Percentile': df['close'].quantile(0.50),\n",
    "    '75th Percentile': df['close'].quantile(0.75),\n",
    "    'Skewness': skew(df['close']),\n",
    "    'Kurtosis': kurtosis(df['close'])\n",
    "}\n",
    "\n",
    "for stat, value in summary_stats.items():\n",
    "    print(f'{stat}: {value}')"
   ]
  },
  {
   "cell_type": "markdown",
   "metadata": {},
   "source": [
    "Visualize"
   ]
  },
  {
   "cell_type": "code",
   "execution_count": 12,
   "metadata": {},
   "outputs": [
    {
     "data": {
      "image/png": "[encoded data removed]",
      "text/plain": [
       "<Figure size 1000x600 with 1 Axes>"
      ]
     },
     "metadata": {},
     "output_type": "display_data"
    }
   ],
   "source": [
    "plt.figure(figsize=(10, 6))\n",
    "plt.hist(df['close'], bins=50, alpha=0.7)\n",
    "plt.title('Distribution of FPT Close Prices')\n",
    "plt.xlabel('Close Price')\n",
    "plt.ylabel('Frequency')\n",
    "plt.grid(True)\n",
    "plt.show()"
   ]
  },
  {
   "cell_type": "code",
   "execution_count": 13,
   "metadata": {},
   "outputs": [
    {
     "data": {
      "image/png": "[encoded data removed]",
      "text/plain": [
       "<Figure size 1000x600 with 1 Axes>"
      ]
     },
     "metadata": {},
     "output_type": "display_data"
    }
   ],
   "source": [
    "plt.figure(figsize=(10, 6))\n",
    "plt.boxplot(df['close'])\n",
    "plt.title('Box Plot of FPT Close Prices')\n",
    "plt.ylabel('Close Price')\n",
    "plt.grid(True)\n",
    "plt.show()"
   ]
  }
 ],
 "metadata": {
  "kernelspec": {
   "display_name": "Python 3",
   "language": "python",
   "name": "python3"
  },
  "language_info": {
   "codemirror_mode": {
    "name": "ipython",
    "version": 3
   },
   "file_extension": ".py",
   "mimetype": "text/x-python",
   "name": "python",
   "nbconvert_exporter": "python",
   "pygments_lexer": "ipython3",
   "version": "3.11.9"
  }
 },
 "nbformat": 4,
 "nbformat_minor": 2
}
