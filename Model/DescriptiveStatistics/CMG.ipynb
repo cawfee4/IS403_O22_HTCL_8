{
 "cells": [
  {
   "cell_type": "code",
   "execution_count": 1,
   "metadata": {},
   "outputs": [],
   "source": [
    "import pandas as pd\n",
    "import matplotlib.pyplot as plt\n",
    "from scipy.stats import skew\n",
    "from scipy.stats import kurtosis"
   ]
  },
  {
   "cell_type": "code",
   "execution_count": 2,
   "metadata": {},
   "outputs": [
    {
     "data": {
      "text/html": [
       "<div>\n",
       "<style scoped>\n",
       "    .dataframe tbody tr th:only-of-type {\n",
       "        vertical-align: middle;\n",
       "    }\n",
       "\n",
       "    .dataframe tbody tr th {\n",
       "        vertical-align: top;\n",
       "    }\n",
       "\n",
       "    .dataframe thead th {\n",
       "        text-align: right;\n",
       "    }\n",
       "</style>\n",
       "<table border=\"1\" class=\"dataframe\">\n",
       "  <thead>\n",
       "    <tr style=\"text-align: right;\">\n",
       "      <th></th>\n",
       "      <th>time</th>\n",
       "      <th>open</th>\n",
       "      <th>high</th>\n",
       "      <th>low</th>\n",
       "      <th>close</th>\n",
       "      <th>volume</th>\n",
       "      <th>ticker</th>\n",
       "    </tr>\n",
       "  </thead>\n",
       "  <tbody>\n",
       "    <tr>\n",
       "      <th>0</th>\n",
       "      <td>2019-03-01</td>\n",
       "      <td>13590</td>\n",
       "      <td>13590</td>\n",
       "      <td>13360</td>\n",
       "      <td>13480</td>\n",
       "      <td>9850</td>\n",
       "      <td>CMG</td>\n",
       "    </tr>\n",
       "    <tr>\n",
       "      <th>1</th>\n",
       "      <td>2019-03-04</td>\n",
       "      <td>13550</td>\n",
       "      <td>14060</td>\n",
       "      <td>13550</td>\n",
       "      <td>13970</td>\n",
       "      <td>118020</td>\n",
       "      <td>CMG</td>\n",
       "    </tr>\n",
       "    <tr>\n",
       "      <th>2</th>\n",
       "      <td>2019-03-05</td>\n",
       "      <td>13830</td>\n",
       "      <td>14490</td>\n",
       "      <td>13830</td>\n",
       "      <td>14460</td>\n",
       "      <td>222050</td>\n",
       "      <td>CMG</td>\n",
       "    </tr>\n",
       "    <tr>\n",
       "      <th>3</th>\n",
       "      <td>2019-03-06</td>\n",
       "      <td>14460</td>\n",
       "      <td>14720</td>\n",
       "      <td>13850</td>\n",
       "      <td>14060</td>\n",
       "      <td>224770</td>\n",
       "      <td>CMG</td>\n",
       "    </tr>\n",
       "    <tr>\n",
       "      <th>4</th>\n",
       "      <td>2019-03-07</td>\n",
       "      <td>14340</td>\n",
       "      <td>14340</td>\n",
       "      <td>13830</td>\n",
       "      <td>13830</td>\n",
       "      <td>112670</td>\n",
       "      <td>CMG</td>\n",
       "    </tr>\n",
       "  </tbody>\n",
       "</table>\n",
       "</div>"
      ],
      "text/plain": [
       "         time   open   high    low  close  volume ticker\n",
       "0  2019-03-01  13590  13590  13360  13480    9850    CMG\n",
       "1  2019-03-04  13550  14060  13550  13970  118020    CMG\n",
       "2  2019-03-05  13830  14490  13830  14460  222050    CMG\n",
       "3  2019-03-06  14460  14720  13850  14060  224770    CMG\n",
       "4  2019-03-07  14340  14340  13830  13830  112670    CMG"
      ]
     },
     "execution_count": 2,
     "metadata": {},
     "output_type": "execute_result"
    }
   ],
   "source": [
    "df = pd.read_csv('../../Dataset/CMG_stock.csv')\n",
    "df.head()"
   ]
  },
  {
   "cell_type": "code",
   "execution_count": 3,
   "metadata": {},
   "outputs": [
    {
     "data": {
      "text/html": [
       "<div>\n",
       "<style scoped>\n",
       "    .dataframe tbody tr th:only-of-type {\n",
       "        vertical-align: middle;\n",
       "    }\n",
       "\n",
       "    .dataframe tbody tr th {\n",
       "        vertical-align: top;\n",
       "    }\n",
       "\n",
       "    .dataframe thead th {\n",
       "        text-align: right;\n",
       "    }\n",
       "</style>\n",
       "<table border=\"1\" class=\"dataframe\">\n",
       "  <thead>\n",
       "    <tr style=\"text-align: right;\">\n",
       "      <th></th>\n",
       "      <th>time</th>\n",
       "      <th>open</th>\n",
       "      <th>high</th>\n",
       "      <th>low</th>\n",
       "      <th>close</th>\n",
       "      <th>volume</th>\n",
       "      <th>ticker</th>\n",
       "    </tr>\n",
       "  </thead>\n",
       "  <tbody>\n",
       "    <tr>\n",
       "      <th>1308</th>\n",
       "      <td>2024-05-27</td>\n",
       "      <td>60500</td>\n",
       "      <td>61100</td>\n",
       "      <td>57000</td>\n",
       "      <td>59000</td>\n",
       "      <td>2265500</td>\n",
       "      <td>CMG</td>\n",
       "    </tr>\n",
       "    <tr>\n",
       "      <th>1309</th>\n",
       "      <td>2024-05-28</td>\n",
       "      <td>59800</td>\n",
       "      <td>62400</td>\n",
       "      <td>59200</td>\n",
       "      <td>62100</td>\n",
       "      <td>1479800</td>\n",
       "      <td>CMG</td>\n",
       "    </tr>\n",
       "    <tr>\n",
       "      <th>1310</th>\n",
       "      <td>2024-05-29</td>\n",
       "      <td>62100</td>\n",
       "      <td>63400</td>\n",
       "      <td>60000</td>\n",
       "      <td>60000</td>\n",
       "      <td>2384000</td>\n",
       "      <td>CMG</td>\n",
       "    </tr>\n",
       "    <tr>\n",
       "      <th>1311</th>\n",
       "      <td>2024-05-30</td>\n",
       "      <td>59000</td>\n",
       "      <td>60100</td>\n",
       "      <td>58100</td>\n",
       "      <td>59200</td>\n",
       "      <td>1814100</td>\n",
       "      <td>CMG</td>\n",
       "    </tr>\n",
       "    <tr>\n",
       "      <th>1312</th>\n",
       "      <td>2024-05-31</td>\n",
       "      <td>60000</td>\n",
       "      <td>61400</td>\n",
       "      <td>59500</td>\n",
       "      <td>60900</td>\n",
       "      <td>1017900</td>\n",
       "      <td>CMG</td>\n",
       "    </tr>\n",
       "  </tbody>\n",
       "</table>\n",
       "</div>"
      ],
      "text/plain": [
       "            time   open   high    low  close   volume ticker\n",
       "1308  2024-05-27  60500  61100  57000  59000  2265500    CMG\n",
       "1309  2024-05-28  59800  62400  59200  62100  1479800    CMG\n",
       "1310  2024-05-29  62100  63400  60000  60000  2384000    CMG\n",
       "1311  2024-05-30  59000  60100  58100  59200  1814100    CMG\n",
       "1312  2024-05-31  60000  61400  59500  60900  1017900    CMG"
      ]
     },
     "execution_count": 3,
     "metadata": {},
     "output_type": "execute_result"
    }
   ],
   "source": [
    "df.tail()"
   ]
  },
  {
   "cell_type": "code",
   "execution_count": 4,
   "metadata": {},
   "outputs": [
    {
     "name": "stdout",
     "output_type": "stream",
     "text": [
      "<class 'pandas.core.series.Series'>\n",
      "RangeIndex: 1313 entries, 0 to 1312\n",
      "Series name: close\n",
      "Non-Null Count  Dtype\n",
      "--------------  -----\n",
      "1313 non-null   int64\n",
      "dtypes: int64(1)\n",
      "memory usage: 10.4 KB\n"
     ]
    }
   ],
   "source": [
    "df['close'].info()"
   ]
  },
  {
   "cell_type": "code",
   "execution_count": 7,
   "metadata": {},
   "outputs": [
    {
     "name": "stdout",
     "output_type": "stream",
     "text": [
      "Count: 1313\n",
      "Mean: 26832.3907083016\n",
      "Median: 28380.0\n",
      "Mode: 31300\n",
      "Range: 52720\n",
      "Standard Error: 278.6659296754156\n",
      "Standard Deviation: 10097.55522763441\n",
      "Variance: 101960621.575127\n",
      "Minimum: 10880\n",
      "Maximum: 63600\n",
      "25th Percentile: 17810.0\n",
      "50th Percentile: 28380.0\n",
      "75th Percentile: 34350.0\n",
      "Skewness: 0.4988988488822729\n",
      "Kurtosis: -0.20795717763270005\n",
      "Sum: 35230929\n"
     ]
    }
   ],
   "source": [
    "summary_stats = {\n",
    "    'Count': df['close'].count(),\n",
    "    'Mean': df['close'].mean(),\n",
    "    'Median': df['close'].median(),\n",
    "    'Mode': df['close'].mode()[0],\n",
    "    'Range': df['close'].max() - df['close'].min(),\n",
    "    'Standard Error': df['close'].sem(),\n",
    "    'Standard Deviation': df['close'].std(),\n",
    "    'Variance': df['close'].var(),\n",
    "    'Minimum': df['close'].min(),\n",
    "    'Maximum': df['close'].max(),\n",
    "    '25th Percentile': df['close'].quantile(0.25),\n",
    "    '50th Percentile': df['close'].quantile(0.50),\n",
    "    '75th Percentile': df['close'].quantile(0.75),\n",
    "    'Skewness': skew(df['close']),\n",
    "    'Kurtosis': kurtosis(df['close']),\n",
    "    'Sum': sum(df['close']),\n",
    "}\n",
    "\n",
    "for stat, value in summary_stats.items():\n",
    "    print(f'{stat}: {value}')"
   ]
  },
  {
   "cell_type": "markdown",
   "metadata": {},
   "source": [
    "Visualize"
   ]
  },
  {
   "cell_type": "code",
   "execution_count": 12,
   "metadata": {},
   "outputs": [
    {
     "data": {
      "image/png": "[encoded data removed]",
      "text/plain": [
       "<Figure size 1000x600 with 1 Axes>"
      ]
     },
     "metadata": {},
     "output_type": "display_data"
    }
   ],
   "source": [
    "plt.figure(figsize=(10, 6))\n",
    "plt.hist(df['close'], bins=50, alpha=0.7)\n",
    "plt.title('Distribution of CMG Close Prices')\n",
    "plt.xlabel('Close Price')\n",
    "plt.ylabel('Frequency')\n",
    "plt.grid(True)\n",
    "plt.show()"
   ]
  },
  {
   "cell_type": "code",
   "execution_count": 13,
   "metadata": {},
   "outputs": [
    {
     "data": {
      "image/png": "[encoded data removed]",
      "text/plain": [
       "<Figure size 1000x600 with 1 Axes>"
      ]
     },
     "metadata": {},
     "output_type": "display_data"
    }
   ],
   "source": [
    "plt.figure(figsize=(10, 6))\n",
    "plt.boxplot(df['close'])\n",
    "plt.title('Box Plot of CMG Close Prices')\n",
    "plt.ylabel('Close Price')\n",
    "plt.grid(True)\n",
    "plt.show()"
   ]
  }
 ],
 "metadata": {
  "kernelspec": {
   "display_name": "Python 3",
   "language": "python",
   "name": "python3"
  },
  "language_info": {
   "codemirror_mode": {
    "name": "ipython",
    "version": 3
   },
   "file_extension": ".py",
   "mimetype": "text/x-python",
   "name": "python",
   "nbconvert_exporter": "python",
   "pygments_lexer": "ipython3",
   "version": "3.12.2"
  }
 },
 "nbformat": 4,
 "nbformat_minor": 2
}
